{
 "cells": [
  {
   "cell_type": "code",
   "execution_count": 1,
   "metadata": {},
   "outputs": [],
   "source": [
    "import pandas as pd"
   ]
  },
  {
   "cell_type": "code",
   "execution_count": 2,
   "metadata": {},
   "outputs": [
    {
     "data": {
      "text/html": [
       "<div>\n",
       "<style scoped>\n",
       "    .dataframe tbody tr th:only-of-type {\n",
       "        vertical-align: middle;\n",
       "    }\n",
       "\n",
       "    .dataframe tbody tr th {\n",
       "        vertical-align: top;\n",
       "    }\n",
       "\n",
       "    .dataframe thead th {\n",
       "        text-align: right;\n",
       "    }\n",
       "</style>\n",
       "<table border=\"1\" class=\"dataframe\">\n",
       "  <thead>\n",
       "    <tr style=\"text-align: right;\">\n",
       "      <th></th>\n",
       "      <th>ONSID</th>\n",
       "      <th>Constituencyname</th>\n",
       "      <th>Countryname</th>\n",
       "      <th>Partyname</th>\n",
       "      <th>Partyabbreviation</th>\n",
       "      <th>Share</th>\n",
       "    </tr>\n",
       "  </thead>\n",
       "  <tbody>\n",
       "    <tr>\n",
       "      <th>0</th>\n",
       "      <td>W07000081</td>\n",
       "      <td>Aberafan Maesteg</td>\n",
       "      <td>Wales</td>\n",
       "      <td>Heritage Party</td>\n",
       "      <td>HPUK</td>\n",
       "      <td>0.005118</td>\n",
       "    </tr>\n",
       "    <tr>\n",
       "      <th>1</th>\n",
       "      <td>W07000081</td>\n",
       "      <td>Aberafan Maesteg</td>\n",
       "      <td>Wales</td>\n",
       "      <td>Independent</td>\n",
       "      <td>Ind</td>\n",
       "      <td>0.017284</td>\n",
       "    </tr>\n",
       "    <tr>\n",
       "      <th>2</th>\n",
       "      <td>W07000081</td>\n",
       "      <td>Aberafan Maesteg</td>\n",
       "      <td>Wales</td>\n",
       "      <td>Liberal Democrat</td>\n",
       "      <td>LD</td>\n",
       "      <td>0.025619</td>\n",
       "    </tr>\n",
       "    <tr>\n",
       "      <th>3</th>\n",
       "      <td>W07000081</td>\n",
       "      <td>Aberafan Maesteg</td>\n",
       "      <td>Wales</td>\n",
       "      <td>Green</td>\n",
       "      <td>Green</td>\n",
       "      <td>0.030597</td>\n",
       "    </tr>\n",
       "    <tr>\n",
       "      <th>4</th>\n",
       "      <td>W07000081</td>\n",
       "      <td>Aberafan Maesteg</td>\n",
       "      <td>Wales</td>\n",
       "      <td>Conservative</td>\n",
       "      <td>Con</td>\n",
       "      <td>0.081191</td>\n",
       "    </tr>\n",
       "  </tbody>\n",
       "</table>\n",
       "</div>"
      ],
      "text/plain": [
       "       ONSID  Constituencyname Countryname         Partyname  \\\n",
       "0  W07000081  Aberafan Maesteg       Wales    Heritage Party   \n",
       "1  W07000081  Aberafan Maesteg       Wales       Independent   \n",
       "2  W07000081  Aberafan Maesteg       Wales  Liberal Democrat   \n",
       "3  W07000081  Aberafan Maesteg       Wales             Green   \n",
       "4  W07000081  Aberafan Maesteg       Wales      Conservative   \n",
       "\n",
       "  Partyabbreviation     Share  \n",
       "0              HPUK  0.005118  \n",
       "1               Ind  0.017284  \n",
       "2                LD  0.025619  \n",
       "3             Green  0.030597  \n",
       "4               Con  0.081191  "
      ]
     },
     "execution_count": 2,
     "metadata": {},
     "output_type": "execute_result"
    }
   ],
   "source": [
    "df=pd.read_csv(r\"C:\\Users\\joshd\\Downloads\\HoC-GE2024-results-by-candidate.csv\",\n",
    "               usecols=['ONSID','Constituencyname','Partyname','Partyabbreviation','Share','Countryname'])\n",
    "df.head(5)"
   ]
  },
  {
   "cell_type": "code",
   "execution_count": 3,
   "metadata": {},
   "outputs": [
    {
     "data": {
      "text/html": [
       "<div>\n",
       "<style scoped>\n",
       "    .dataframe tbody tr th:only-of-type {\n",
       "        vertical-align: middle;\n",
       "    }\n",
       "\n",
       "    .dataframe tbody tr th {\n",
       "        vertical-align: top;\n",
       "    }\n",
       "\n",
       "    .dataframe thead th {\n",
       "        text-align: right;\n",
       "    }\n",
       "</style>\n",
       "<table border=\"1\" class=\"dataframe\">\n",
       "  <thead>\n",
       "    <tr style=\"text-align: right;\">\n",
       "      <th></th>\n",
       "      <th>ONSID</th>\n",
       "      <th>Constituencyname</th>\n",
       "      <th>Countryname</th>\n",
       "      <th>Partyname</th>\n",
       "      <th>Partyabbreviation</th>\n",
       "      <th>Share</th>\n",
       "    </tr>\n",
       "  </thead>\n",
       "  <tbody>\n",
       "    <tr>\n",
       "      <th>1</th>\n",
       "      <td>W07000081</td>\n",
       "      <td>Aberafan Maesteg</td>\n",
       "      <td>Wales</td>\n",
       "      <td>Independent</td>\n",
       "      <td>Ind</td>\n",
       "      <td>0.017284</td>\n",
       "    </tr>\n",
       "    <tr>\n",
       "      <th>57</th>\n",
       "      <td>E14001065</td>\n",
       "      <td>Altrincham and Sale West</td>\n",
       "      <td>England</td>\n",
       "      <td>Workers Party of Britain</td>\n",
       "      <td>WPB</td>\n",
       "      <td>0.012497</td>\n",
       "    </tr>\n",
       "    <tr>\n",
       "      <th>63</th>\n",
       "      <td>W07000082</td>\n",
       "      <td>Alyn and Deeside</td>\n",
       "      <td>Wales</td>\n",
       "      <td>Independent</td>\n",
       "      <td>Ind</td>\n",
       "      <td>0.036297</td>\n",
       "    </tr>\n",
       "    <tr>\n",
       "      <th>114</th>\n",
       "      <td>E14001070</td>\n",
       "      <td>Ashton-under-Lyne</td>\n",
       "      <td>England</td>\n",
       "      <td>Workers Party of Britain</td>\n",
       "      <td>WPB</td>\n",
       "      <td>0.079947</td>\n",
       "    </tr>\n",
       "    <tr>\n",
       "      <th>119</th>\n",
       "      <td>E14001071</td>\n",
       "      <td>Aylesbury</td>\n",
       "      <td>England</td>\n",
       "      <td>Workers Party of Britain</td>\n",
       "      <td>WPB</td>\n",
       "      <td>0.010332</td>\n",
       "    </tr>\n",
       "  </tbody>\n",
       "</table>\n",
       "</div>"
      ],
      "text/plain": [
       "         ONSID          Constituencyname Countryname  \\\n",
       "1    W07000081          Aberafan Maesteg       Wales   \n",
       "57   E14001065  Altrincham and Sale West     England   \n",
       "63   W07000082          Alyn and Deeside       Wales   \n",
       "114  E14001070         Ashton-under-Lyne     England   \n",
       "119  E14001071                 Aylesbury     England   \n",
       "\n",
       "                    Partyname Partyabbreviation     Share  \n",
       "1                 Independent               Ind  0.017284  \n",
       "57   Workers Party of Britain               WPB  0.012497  \n",
       "63                Independent               Ind  0.036297  \n",
       "114  Workers Party of Britain               WPB  0.079947  \n",
       "119  Workers Party of Britain               WPB  0.010332  "
      ]
     },
     "execution_count": 3,
     "metadata": {},
     "output_type": "execute_result"
    }
   ],
   "source": [
    "df=df.loc[df.Countryname.isin(['Wales','England']) & df.Partyabbreviation.isin(['WPB','Ind'])]\n",
    "df.head(5)"
   ]
  },
  {
   "cell_type": "code",
   "execution_count": 4,
   "metadata": {},
   "outputs": [
    {
     "data": {
      "text/plain": [
       "ONSID      Constituencyname          Countryname\n",
       "E14001065  Altrincham and Sale West  England        0.012497\n",
       "E14001070  Ashton-under-Lyne         England        0.079947\n",
       "E14001071  Aylesbury                 England        0.010332\n",
       "E14001072  Banbury                   England        0.017643\n",
       "E14001073  Barking                   England        0.118732\n",
       "E14001074  Barnsley North            England        0.016696\n",
       "Name: Share, dtype: float64"
      ]
     },
     "execution_count": 4,
     "metadata": {},
     "output_type": "execute_result"
    }
   ],
   "source": [
    "df=df.groupby([\"ONSID\",\"Constituencyname\",\"Countryname\"]).Share.sum()\n",
    "df.head(6)"
   ]
  },
  {
   "cell_type": "code",
   "execution_count": 6,
   "metadata": {},
   "outputs": [],
   "source": [
    "df.to_csv(r\"C:\\Users\\joshd\\Downloads\\CombinedVoteshare-new\")"
   ]
  }
 ],
 "metadata": {
  "kernelspec": {
   "display_name": "Python 3",
   "language": "python",
   "name": "python3"
  },
  "language_info": {
   "codemirror_mode": {
    "name": "ipython",
    "version": 3
   },
   "file_extension": ".py",
   "mimetype": "text/x-python",
   "name": "python",
   "nbconvert_exporter": "python",
   "pygments_lexer": "ipython3",
   "version": "3.12.4"
  }
 },
 "nbformat": 4,
 "nbformat_minor": 2
}
